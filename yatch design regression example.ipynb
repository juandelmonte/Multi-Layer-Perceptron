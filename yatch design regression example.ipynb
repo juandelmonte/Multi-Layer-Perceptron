{
 "cells": [
  {
   "cell_type": "code",
   "execution_count": 1,
   "id": "6e60f040-ba90-4a81-b786-f4ea6e0f0b7a",
   "metadata": {},
   "outputs": [],
   "source": [
    "import pandas as pd\n",
    "from matplotlib import pylab\n",
    "from main.MultiLayerPerceptron import MLP\n",
    "from main.utils import *\n",
    "from helpers.YatchDesign import *"
   ]
  },
  {
   "cell_type": "code",
   "execution_count": 2,
   "id": "82dc8c6d",
   "metadata": {},
   "outputs": [
    {
     "data": {
      "text/html": [
       "<div>\n",
       "<style scoped>\n",
       "    .dataframe tbody tr th:only-of-type {\n",
       "        vertical-align: middle;\n",
       "    }\n",
       "\n",
       "    .dataframe tbody tr th {\n",
       "        vertical-align: top;\n",
       "    }\n",
       "\n",
       "    .dataframe thead th {\n",
       "        text-align: right;\n",
       "    }\n",
       "</style>\n",
       "<table border=\"1\" class=\"dataframe\">\n",
       "  <thead>\n",
       "    <tr style=\"text-align: right;\">\n",
       "      <th></th>\n",
       "      <th>center_of_buoyancy</th>\n",
       "      <th>prismatic_coefficient</th>\n",
       "      <th>length_displacement</th>\n",
       "      <th>beam_draught_ratio</th>\n",
       "      <th>length_beam_ratio</th>\n",
       "      <th>froude_number</th>\n",
       "      <th>resistance</th>\n",
       "    </tr>\n",
       "  </thead>\n",
       "  <tbody>\n",
       "    <tr>\n",
       "      <th>0</th>\n",
       "      <td>-2.3</td>\n",
       "      <td>0.568</td>\n",
       "      <td>4.78</td>\n",
       "      <td>3.99</td>\n",
       "      <td>3.17</td>\n",
       "      <td>0.125</td>\n",
       "      <td>0.11</td>\n",
       "    </tr>\n",
       "    <tr>\n",
       "      <th>1</th>\n",
       "      <td>-2.3</td>\n",
       "      <td>0.568</td>\n",
       "      <td>4.78</td>\n",
       "      <td>3.99</td>\n",
       "      <td>3.17</td>\n",
       "      <td>0.150</td>\n",
       "      <td>0.27</td>\n",
       "    </tr>\n",
       "    <tr>\n",
       "      <th>2</th>\n",
       "      <td>-2.3</td>\n",
       "      <td>0.568</td>\n",
       "      <td>4.78</td>\n",
       "      <td>3.99</td>\n",
       "      <td>3.17</td>\n",
       "      <td>0.175</td>\n",
       "      <td>0.47</td>\n",
       "    </tr>\n",
       "    <tr>\n",
       "      <th>3</th>\n",
       "      <td>-2.3</td>\n",
       "      <td>0.568</td>\n",
       "      <td>4.78</td>\n",
       "      <td>3.99</td>\n",
       "      <td>3.17</td>\n",
       "      <td>0.200</td>\n",
       "      <td>0.78</td>\n",
       "    </tr>\n",
       "    <tr>\n",
       "      <th>4</th>\n",
       "      <td>-2.3</td>\n",
       "      <td>0.568</td>\n",
       "      <td>4.78</td>\n",
       "      <td>3.99</td>\n",
       "      <td>3.17</td>\n",
       "      <td>0.225</td>\n",
       "      <td>1.18</td>\n",
       "    </tr>\n",
       "    <tr>\n",
       "      <th>...</th>\n",
       "      <td>...</td>\n",
       "      <td>...</td>\n",
       "      <td>...</td>\n",
       "      <td>...</td>\n",
       "      <td>...</td>\n",
       "      <td>...</td>\n",
       "      <td>...</td>\n",
       "    </tr>\n",
       "    <tr>\n",
       "      <th>303</th>\n",
       "      <td>-2.3</td>\n",
       "      <td>0.600</td>\n",
       "      <td>4.34</td>\n",
       "      <td>4.23</td>\n",
       "      <td>2.73</td>\n",
       "      <td>0.350</td>\n",
       "      <td>8.47</td>\n",
       "    </tr>\n",
       "    <tr>\n",
       "      <th>304</th>\n",
       "      <td>-2.3</td>\n",
       "      <td>0.600</td>\n",
       "      <td>4.34</td>\n",
       "      <td>4.23</td>\n",
       "      <td>2.73</td>\n",
       "      <td>0.375</td>\n",
       "      <td>12.27</td>\n",
       "    </tr>\n",
       "    <tr>\n",
       "      <th>305</th>\n",
       "      <td>-2.3</td>\n",
       "      <td>0.600</td>\n",
       "      <td>4.34</td>\n",
       "      <td>4.23</td>\n",
       "      <td>2.73</td>\n",
       "      <td>0.400</td>\n",
       "      <td>19.59</td>\n",
       "    </tr>\n",
       "    <tr>\n",
       "      <th>306</th>\n",
       "      <td>-2.3</td>\n",
       "      <td>0.600</td>\n",
       "      <td>4.34</td>\n",
       "      <td>4.23</td>\n",
       "      <td>2.73</td>\n",
       "      <td>0.425</td>\n",
       "      <td>30.48</td>\n",
       "    </tr>\n",
       "    <tr>\n",
       "      <th>307</th>\n",
       "      <td>-2.3</td>\n",
       "      <td>0.600</td>\n",
       "      <td>4.34</td>\n",
       "      <td>4.23</td>\n",
       "      <td>2.73</td>\n",
       "      <td>0.450</td>\n",
       "      <td>46.66</td>\n",
       "    </tr>\n",
       "  </tbody>\n",
       "</table>\n",
       "<p>308 rows × 7 columns</p>\n",
       "</div>"
      ],
      "text/plain": [
       "     center_of_buoyancy  prismatic_coefficient  length_displacement  \\\n",
       "0                  -2.3                  0.568                 4.78   \n",
       "1                  -2.3                  0.568                 4.78   \n",
       "2                  -2.3                  0.568                 4.78   \n",
       "3                  -2.3                  0.568                 4.78   \n",
       "4                  -2.3                  0.568                 4.78   \n",
       "..                  ...                    ...                  ...   \n",
       "303                -2.3                  0.600                 4.34   \n",
       "304                -2.3                  0.600                 4.34   \n",
       "305                -2.3                  0.600                 4.34   \n",
       "306                -2.3                  0.600                 4.34   \n",
       "307                -2.3                  0.600                 4.34   \n",
       "\n",
       "     beam_draught_ratio  length_beam_ratio  froude_number  resistance  \n",
       "0                  3.99               3.17          0.125        0.11  \n",
       "1                  3.99               3.17          0.150        0.27  \n",
       "2                  3.99               3.17          0.175        0.47  \n",
       "3                  3.99               3.17          0.200        0.78  \n",
       "4                  3.99               3.17          0.225        1.18  \n",
       "..                  ...                ...            ...         ...  \n",
       "303                4.23               2.73          0.350        8.47  \n",
       "304                4.23               2.73          0.375       12.27  \n",
       "305                4.23               2.73          0.400       19.59  \n",
       "306                4.23               2.73          0.425       30.48  \n",
       "307                4.23               2.73          0.450       46.66  \n",
       "\n",
       "[308 rows x 7 columns]"
      ]
     },
     "execution_count": 2,
     "metadata": {},
     "output_type": "execute_result"
    }
   ],
   "source": [
    "df_total = pd.read_csv('data/yacht_hydrodynamics.csv',sep=';')\n",
    "df_total"
   ]
  },
  {
   "cell_type": "code",
   "execution_count": 3,
   "id": "ba72461d",
   "metadata": {},
   "outputs": [],
   "source": [
    "#leave 40% of the data for testing\n",
    "df = df_total.sample(frac = 0.60)\n",
    "\n",
    "#normalize\n",
    "df_means = df.mean()\n",
    "df_stds = df.std()\n",
    "\n",
    "df=(df-df_means)/(df_stds) \n",
    "\n",
    "#set training and validation data\n",
    "input, output = encode(df,'resistance')\n",
    "input_training, output_training, input_validation, output_validation = generate_samples(input, output,4)"
   ]
  },
  {
   "cell_type": "code",
   "execution_count": 4,
   "id": "21e13746",
   "metadata": {},
   "outputs": [
    {
     "name": "stdout",
     "output_type": "stream",
     "text": [
      "cost of validation data:  0.7309618085006547\n"
     ]
    }
   ],
   "source": [
    "model = MLP([6,4,1])\n",
    "model.save('init')\n",
    "\n",
    "model.setData(input_validation,output_validation)\n",
    "print('cost of validation data: ',model.getCost())"
   ]
  },
  {
   "cell_type": "code",
   "execution_count": 5,
   "id": "6c90b834",
   "metadata": {},
   "outputs": [
    {
     "name": "stdout",
     "output_type": "stream",
     "text": [
      "0 1.0404964670547638 1.0368937403478167 1.003474538003999 0.1\n",
      "1000 0.014765221467499997 0.014998486853048693 0.9844474054060139 0.1\n",
      "2000 0.0035834957683979173 0.002672027766272853 1.3411147195511555 0.08000000000000002\n",
      "3000 0.004548875323527972 0.0026256928307362023 1.7324476306897405 0.08000000000000002\n",
      "4000 0.010365812415298745 0.009835555455675677 1.0539122535593126 0.08000000000000002\n",
      "5000 0.0032582636486421486 0.0016923130688883963 1.9253314936475403 0.08000000000000002\n",
      "6000 0.0029708761753605697 0.002137112261185203 1.3901357590419592 0.08000000000000002\n",
      "7000 0.011641117814721625 0.0101979647485608 1.1415138316068891 0.08000000000000002\n",
      "8000 0.004284936955770051 0.0022590277034632493 1.8968058466927784 0.08000000000000002\n",
      "9000 0.0019742773249520787 0.0014798939773963166 1.334066733905875 0.08000000000000002\n",
      "initial and final training cost:  1.0682972364336705 0.005142379303544863\n",
      "cost of validation data:  0.00496825890636761\n"
     ]
    }
   ],
   "source": [
    "model.setData(input_training,output_training)\n",
    "model.train(10000,1000)\n",
    "\n",
    "model.setData(input_validation,output_validation)\n",
    "print('cost of validation data: ',model.getCost())"
   ]
  },
  {
   "cell_type": "code",
   "execution_count": 6,
   "id": "d2eea7ce",
   "metadata": {},
   "outputs": [
    {
     "name": "stdout",
     "output_type": "stream",
     "text": [
      "test cost: 0.007618484745000711\n"
     ]
    }
   ],
   "source": [
    "##test\n",
    "\n",
    "df_test = pd.DataFrame(df_total.drop(df.index))\n",
    "output_real=df_test['resistance'].tolist()\n",
    "\n",
    "# normalization (uses mean and std from training and validation, which is the one the model is trained with)\n",
    "# aka it's normalized using the same parameters the model used to train:\n",
    "df_test=(df_test-df_means)/(df_stds)\n",
    "input_test, output_test = encode(df_test,'resistance')\n",
    "model.setData(input_test,output_test)\n",
    "print('test cost:',model.getCost())"
   ]
  },
  {
   "cell_type": "code",
   "execution_count": 7,
   "id": "eb6d7cd1",
   "metadata": {},
   "outputs": [
    {
     "data": {
      "image/png": "[encoded data removed]",
      "text/plain": [
       "<Figure size 432x288 with 1 Axes>"
      ]
     },
     "metadata": {
      "needs_background": "light"
     },
     "output_type": "display_data"
    }
   ],
   "source": [
    "#denormalize  --> inverse df=(df-df_means)/(df_stds) for resistance\n",
    "mean_resistance = df_means['resistance']\n",
    "std_resistance = df_stds['resistance']\n",
    "\n",
    "output_predicted=[a[0]*std_resistance+mean_resistance for a in model.layers[-1].a]\n",
    "\n",
    "model.save('final')\n",
    "\n",
    "r2=rSquared(output_real,output_predicted)\n",
    "pylab.plot(output_real,output_predicted, 'bo')\n",
    "a =[a for a in range(65)]\n",
    "pylab.plot(a,a)\n",
    "pylab.text(0.5, 55, 'coeff. of correlation: ' + str(r2))\n",
    "pylab.xlabel('real resistance')\n",
    "pylab.ylabel('predicted resistance')\n",
    "\n",
    "pylab.show()\n"
   ]
  },
  {
   "cell_type": "code",
   "execution_count": 8,
   "id": "a0d4d280",
   "metadata": {},
   "outputs": [
    {
     "data": {
      "text/plain": [
       "True"
      ]
     },
     "execution_count": 8,
     "metadata": {},
     "output_type": "execute_result"
    }
   ],
   "source": [
    "model.save('final')"
   ]
  }
 ],
 "metadata": {
  "kernelspec": {
   "display_name": "Python 3 (ipykernel)",
   "language": "python",
   "name": "python3"
  },
  "language_info": {
   "codemirror_mode": {
    "name": "ipython",
    "version": 3
   },
   "file_extension": ".py",
   "mimetype": "text/x-python",
   "name": "python",
   "nbconvert_exporter": "python",
   "pygments_lexer": "ipython3",
   "version": "3.10.1"
  },
  "vscode": {
   "interpreter": {
    "hash": "09da67d289bed5ff921399abd660e4c06ebfba69bed86e1cf49e11194c46452e"
   }
  }
 },
 "nbformat": 4,
 "nbformat_minor": 5
}
